{
  "nbformat": 4,
  "nbformat_minor": 0,
  "metadata": {
    "colab": {
      "name": "SentimentAnalysisIMDB.ipynb",
      "provenance": [],
      "collapsed_sections": [],
      "include_colab_link": true
    },
    "kernelspec": {
      "name": "python3",
      "display_name": "Python 3"
    },
    "language_info": {
      "name": "python"
    }
  },
  "cells": [
    {
      "cell_type": "markdown",
      "metadata": {
        "id": "view-in-github",
        "colab_type": "text"
      },
      "source": [
        "<a href=\"https://colab.research.google.com/github/mkaanmolla/Sentiment_Analysis_on_IMDB_Movie_Reviews/blob/main/SentimentAnalysisIMDB.ipynb\" target=\"_parent\"><img src=\"https://colab.research.google.com/assets/colab-badge.svg\" alt=\"Open In Colab\"/></a>"
      ]
    },
    {
      "cell_type": "markdown",
      "source": [
        "#Introduction\n",
        "With the introduction of machine learning and artificial intelligence into our daily lives, algorithms belonging to these branches have started to be used in many areas. Machine learning, which is used in many areas such as image recognition, cyber security, sentiment analysis, stock market signals, product recommendations, social media, health, daily life, has gained popularity day by day.\n",
        "\n",
        "Sentiment analysis, which is the subject of this project from related fields, is the process of detecting positive or negative emotion in the text. It is often used by businesses to detect sentiment in social data, measure brand reputation, and understand customers. As customers have recently expressed their thoughts and feelings more openly than ever before, sentiment analysis has become an essential tool for tracking and understanding this sentiment."
      ],
      "metadata": {
        "id": "W_i0V8z3Dhen"
      }
    },
    {
      "cell_type": "markdown",
      "source": [
        "#IMDB Large Movie Reviews Dataset\n",
        "There are 50,000 user comments from IMDB in this data set, which was selected for this project. The dataset is classified as positive and negative and also contains additional unlabeled data that can be used for training and testing purposes. The dataset is labeled “Large Movie Review Dataset” and can be downloaded from the Kaggle or Stanford website. The data set is downloaded in a compressed form and contains 2 folders called test and train. These two folders contain 2 more folders, neg and pos. Within each folder, the comments are in text form one by one. This will bring the necessity of merging while reading the data set from the idea to be used."
      ],
      "metadata": {
        "id": "SFRn60A8DvXD"
      }
    },
    {
      "cell_type": "code",
      "metadata": {
        "id": "TK6eYnlw4oQv"
      },
      "source": [
        "%reload_ext autoreload\n",
        "%autoreload 2\n",
        "%matplotlib inline\n",
        "\n",
        "import nltk\n",
        "from glob import glob\n",
        "import numpy as np\n",
        "import os,re,string\n",
        "from sklearn.linear_model import LogisticRegression\n",
        "from sklearn.feature_extraction.text import CountVectorizer\n",
        "import pandas as pd\n",
        "from wordcloud import WordCloud, STOPWORDS\n",
        "from nltk.corpus import stopwords\n",
        "import spacy"
      ],
      "execution_count": null,
      "outputs": []
    },
    {
      "cell_type": "code",
      "metadata": {
        "id": "C3_ajkDw8ovR"
      },
      "source": [
        "nlp = spacy.load('en', disable=['parser', 'ner'])"
      ],
      "execution_count": null,
      "outputs": []
    },
    {
      "cell_type": "code",
      "metadata": {
        "id": "7CmEC0ou4ru1"
      },
      "source": [
        "#Reading data from link\n",
        "!wget http://ai.stanford.edu/~amaas/data/sentiment/aclImdb_v1.tar.gz\n",
        "!gunzip aclImdb_v1.tar.gz\n",
        "!tar -xvf aclImdb_v1.tar"
      ],
      "execution_count": null,
      "outputs": []
    },
    {
      "cell_type": "code",
      "metadata": {
        "colab": {
          "base_uri": "https://localhost:8080/"
        },
        "id": "VsePr4Sh4_to",
        "outputId": "575ae9f3-04d6-4401-f78a-05201a3fef75"
      },
      "source": [
        "PATH='/content/aclImdb/'\n",
        "names = ['neg','pos']\n",
        "!ls {PATH}\n",
        "!ls {PATH}train\n",
        "!ls {PATH}train/pos | head\n",
        "\n",
        "#Similar for the test folder\n",
        "!ls {PATH}test\n",
        "!ls {PATH}test/pos | head"
      ],
      "execution_count": null,
      "outputs": [
        {
          "output_type": "stream",
          "text": [
            "imdbEr.txt  imdb.vocab\tREADME\ttest  train\n",
            "labeledBow.feat  pos\tunsupBow.feat  urls_pos.txt\n",
            "neg\t\t unsup\turls_neg.txt   urls_unsup.txt\n",
            "0_9.txt\n",
            "10000_8.txt\n",
            "10001_10.txt\n",
            "10002_7.txt\n",
            "10003_8.txt\n",
            "10004_8.txt\n",
            "10005_7.txt\n",
            "10006_7.txt\n",
            "10007_7.txt\n",
            "10008_7.txt\n",
            "labeledBow.feat  neg  pos  urls_neg.txt  urls_pos.txt\n",
            "0_10.txt\n",
            "10000_7.txt\n",
            "10001_9.txt\n",
            "10002_8.txt\n",
            "10003_8.txt\n",
            "10004_9.txt\n",
            "10005_8.txt\n",
            "10006_7.txt\n",
            "10007_10.txt\n",
            "10008_8.txt\n"
          ],
          "name": "stdout"
        }
      ]
    },
    {
      "cell_type": "code",
      "metadata": {
        "id": "tmWlxrgP5zS_"
      },
      "source": [
        "#Loading Labels from folder\n",
        "#Train/test split\n",
        "def load_texts_labels_from_folders(path, folders):\n",
        "    texts,labels = [],[]\n",
        "    for idx,label in enumerate(folders):\n",
        "        for fname in glob(os.path.join(path, label, '*.*')):\n",
        "            texts.append(open(fname, 'r').read())\n",
        "            labels.append(idx)\n",
        "    # stored as np.int8 to save space \n",
        "    return texts, np.array(labels).astype(np.int8)\n",
        "\n",
        "trn,trn_y = load_texts_labels_from_folders(f'{PATH}train',names)\n",
        "val,val_y = load_texts_labels_from_folders(f'{PATH}test',names)\n",
        "\n",
        "len(val),len(trn_y),len(val),len(val_y)\n",
        "\n",
        "len(trn_y[trn_y==1]),len(val_y[val_y==1])\n",
        "\n",
        "np.unique(trn_y);"
      ],
      "execution_count": null,
      "outputs": []
    },
    {
      "cell_type": "code",
      "metadata": {
        "colab": {
          "base_uri": "https://localhost:8080/"
        },
        "id": "Oefdwef25_Ed",
        "outputId": "fcaa8486-48d6-489c-cef6-296612259ebc"
      },
      "source": [
        "#Label Check\n",
        "print(trn[24001])\n",
        "print()\n",
        "print(f\"Review's label: {trn_y[24001]}\")\n",
        "# 0 represent a negative review"
      ],
      "execution_count": null,
      "outputs": [
        {
          "output_type": "stream",
          "text": [
            "One of the few best films of all time. The change from Black and white to colour for the Heaven and Earth Sequences was Directorial excellence.<br /><br />The Plot is extremely clever, the complete film leaves you overwhelmed by all of the human emotions, and although a war film it doesn't discriminate. I must have seen this film more times than any other, and I never tire of it. It is a film that makes you question your own mortality and beliefs on what happens after our demise.\n",
            "\n",
            "Review's label: 1\n"
          ],
          "name": "stdout"
        }
      ]
    },
    {
      "cell_type": "code",
      "metadata": {
        "colab": {
          "base_uri": "https://localhost:8080/",
          "height": 204
        },
        "id": "DKWW4A4E6xul",
        "outputId": "ee6a536b-ddd8-4885-81ab-5e014467bd8e"
      },
      "source": [
        "#Dataframe creation with using trn,val ve valy,trny\n",
        "d = {\"Comment\": trn, \"Sentiment\": trn_y}\n",
        "df=pd.DataFrame(d)\n",
        "d1={\"Comment\":val,\"Sentiment\":val_y}\n",
        "df1=pd.DataFrame(d1)\n",
        "\n",
        "df=pd.concat([df,df1])\n",
        "df.head()"
      ],
      "execution_count": null,
      "outputs": [
        {
          "output_type": "execute_result",
          "data": {
            "text/html": [
              "<div>\n",
              "<style scoped>\n",
              "    .dataframe tbody tr th:only-of-type {\n",
              "        vertical-align: middle;\n",
              "    }\n",
              "\n",
              "    .dataframe tbody tr th {\n",
              "        vertical-align: top;\n",
              "    }\n",
              "\n",
              "    .dataframe thead th {\n",
              "        text-align: right;\n",
              "    }\n",
              "</style>\n",
              "<table border=\"1\" class=\"dataframe\">\n",
              "  <thead>\n",
              "    <tr style=\"text-align: right;\">\n",
              "      <th></th>\n",
              "      <th>Comment</th>\n",
              "      <th>Sentiment</th>\n",
              "    </tr>\n",
              "  </thead>\n",
              "  <tbody>\n",
              "    <tr>\n",
              "      <th>0</th>\n",
              "      <td>The idea of In the Name of the People is good,...</td>\n",
              "      <td>0</td>\n",
              "    </tr>\n",
              "    <tr>\n",
              "      <th>1</th>\n",
              "      <td>I always wrote this series off as being a comp...</td>\n",
              "      <td>0</td>\n",
              "    </tr>\n",
              "    <tr>\n",
              "      <th>2</th>\n",
              "      <td>SPOILER WARNING: There are some minor spoilers...</td>\n",
              "      <td>0</td>\n",
              "    </tr>\n",
              "    <tr>\n",
              "      <th>3</th>\n",
              "      <td>Is this film a joke? Is it a comedy? Surely it...</td>\n",
              "      <td>0</td>\n",
              "    </tr>\n",
              "    <tr>\n",
              "      <th>4</th>\n",
              "      <td>This is the kind of film that everyone involve...</td>\n",
              "      <td>0</td>\n",
              "    </tr>\n",
              "  </tbody>\n",
              "</table>\n",
              "</div>"
            ],
            "text/plain": [
              "                                             Comment  Sentiment\n",
              "0  The idea of In the Name of the People is good,...          0\n",
              "1  I always wrote this series off as being a comp...          0\n",
              "2  SPOILER WARNING: There are some minor spoilers...          0\n",
              "3  Is this film a joke? Is it a comedy? Surely it...          0\n",
              "4  This is the kind of film that everyone involve...          0"
            ]
          },
          "metadata": {
            "tags": []
          },
          "execution_count": 7
        }
      ]
    },
    {
      "cell_type": "markdown",
      "source": [
        "#Preprocessing\n",
        "On the dataset, some corrections, completing missing data, removing duplicate data,transform, integrate, clean, normalize, size reduction, etc.\n",
        "operations are called preprocessing. It is essential to perform this process in order to understand the data and obtain more positive results."
      ],
      "metadata": {
        "id": "-158JakjHwpK"
      }
    },
    {
      "cell_type": "code",
      "metadata": {
        "id": "wtHrLK3mNono"
      },
      "source": [
        "#preprocessing\n",
        "\n",
        "#Making Lowercase\n",
        "df['Comment'] = df['Comment'].apply(lambda x: \" \".join(x.lower() for x in x.split()))\n",
        "#Removing punctuations\n",
        "df['Comment'] = df['Comment'].str.replace('[^\\w\\s]','')"
      ],
      "execution_count": null,
      "outputs": []
    },
    {
      "cell_type": "code",
      "metadata": {
        "id": "8gBzqyYCOrs1"
      },
      "source": [
        "#Removing emojis\n",
        "# REFERENCE : https://gist.github.com/slowkow/7a7f61f495e3dbb7e3d767f97bd7304b\n",
        "def remove_emoji(text):\n",
        "    emoji_pattern = re.compile(\"[\"\n",
        "                           u\"\\U0001F600-\\U0001F64F\"  # emoticons\n",
        "                           u\"\\U0001F300-\\U0001F5FF\"  # symbols & pictographs\n",
        "                           u\"\\U0001F680-\\U0001F6FF\"  # transport & map symbols\n",
        "                           u\"\\U0001F1E0-\\U0001F1FF\"  # flags \n",
        "                           u\"\\U00002702-\\U000027B0\"\n",
        "                           u\"\\U000024C2-\\U0001F251\"\n",
        "                           \"]+\", flags=re.UNICODE)\n",
        "    return emoji_pattern.sub(r'', text)\n",
        "df['Comment'] = df['Comment'].apply(lambda x: remove_emoji(x))"
      ],
      "execution_count": null,
      "outputs": []
    },
    {
      "cell_type": "code",
      "metadata": {
        "colab": {
          "base_uri": "https://localhost:8080/"
        },
        "id": "hriDpXMwWyNT",
        "outputId": "13d9f1e9-2bea-49b5-e1e7-da3e9fd9a3cf"
      },
      "source": [
        "nltk.download('stopwords')"
      ],
      "execution_count": null,
      "outputs": [
        {
          "output_type": "stream",
          "text": [
            "[nltk_data] Downloading package stopwords to /root/nltk_data...\n",
            "[nltk_data]   Package stopwords is already up-to-date!\n"
          ],
          "name": "stdout"
        },
        {
          "output_type": "execute_result",
          "data": {
            "text/plain": [
              "True"
            ]
          },
          "metadata": {
            "tags": []
          },
          "execution_count": 10
        }
      ]
    },
    {
      "cell_type": "markdown",
      "source": [
        "#Stopwords\n",
        "Stop Words are words that are ignored in order to show the user the result faster as a result of queries on search engines. Since these words do not affect the ranking in the results of the search queries, they should also be removed from the data set, as they will not affect the algorithms used."
      ],
      "metadata": {
        "id": "-WIREy7kHJez"
      }
    },
    {
      "cell_type": "code",
      "metadata": {
        "colab": {
          "base_uri": "https://localhost:8080/",
          "height": 204
        },
        "id": "Syv3ze-rOUR0",
        "outputId": "b86636d7-614b-454f-db13-b4509b74b68e"
      },
      "source": [
        "#Removing Stopwords\n",
        "stop = stopwords.words('english')\n",
        "df['Comment'] = df['Comment'].apply(lambda x: \" \".join(x for x in x.split() if x not in stop))\n",
        "df.head()"
      ],
      "execution_count": null,
      "outputs": [
        {
          "output_type": "execute_result",
          "data": {
            "text/html": [
              "<div>\n",
              "<style scoped>\n",
              "    .dataframe tbody tr th:only-of-type {\n",
              "        vertical-align: middle;\n",
              "    }\n",
              "\n",
              "    .dataframe tbody tr th {\n",
              "        vertical-align: top;\n",
              "    }\n",
              "\n",
              "    .dataframe thead th {\n",
              "        text-align: right;\n",
              "    }\n",
              "</style>\n",
              "<table border=\"1\" class=\"dataframe\">\n",
              "  <thead>\n",
              "    <tr style=\"text-align: right;\">\n",
              "      <th></th>\n",
              "      <th>Comment</th>\n",
              "      <th>Sentiment</th>\n",
              "    </tr>\n",
              "  </thead>\n",
              "  <tbody>\n",
              "    <tr>\n",
              "      <th>0</th>\n",
              "      <td>idea name people good murderer doesnt want dau...</td>\n",
              "      <td>0</td>\n",
              "    </tr>\n",
              "    <tr>\n",
              "      <th>1</th>\n",
              "      <td>always wrote series complete stinkfest jim bel...</td>\n",
              "      <td>0</td>\n",
              "    </tr>\n",
              "    <tr>\n",
              "      <th>2</th>\n",
              "      <td>spoiler warning minor spoilers review dont rea...</td>\n",
              "      <td>0</td>\n",
              "    </tr>\n",
              "    <tr>\n",
              "      <th>3</th>\n",
              "      <td>film joke comedy surely isnt serious thriller ...</td>\n",
              "      <td>0</td>\n",
              "    </tr>\n",
              "    <tr>\n",
              "      <th>4</th>\n",
              "      <td>kind film everyone involved embarrassed poor d...</td>\n",
              "      <td>0</td>\n",
              "    </tr>\n",
              "  </tbody>\n",
              "</table>\n",
              "</div>"
            ],
            "text/plain": [
              "                                             Comment  Sentiment\n",
              "0  idea name people good murderer doesnt want dau...          0\n",
              "1  always wrote series complete stinkfest jim bel...          0\n",
              "2  spoiler warning minor spoilers review dont rea...          0\n",
              "3  film joke comedy surely isnt serious thriller ...          0\n",
              "4  kind film everyone involved embarrassed poor d...          0"
            ]
          },
          "metadata": {
            "tags": []
          },
          "execution_count": 11
        }
      ]
    },
    {
      "cell_type": "code",
      "metadata": {
        "colab": {
          "base_uri": "https://localhost:8080/"
        },
        "id": "XqxDQyMwL0NN",
        "outputId": "5eed3fd2-c73d-4200-9b83-4f49ab6cfd20"
      },
      "source": [
        "nltk.download('punkt')"
      ],
      "execution_count": null,
      "outputs": [
        {
          "output_type": "stream",
          "text": [
            "[nltk_data] Downloading package punkt to /root/nltk_data...\n",
            "[nltk_data]   Package punkt is already up-to-date!\n"
          ],
          "name": "stdout"
        },
        {
          "output_type": "execute_result",
          "data": {
            "text/plain": [
              "True"
            ]
          },
          "metadata": {
            "tags": []
          },
          "execution_count": 12
        }
      ]
    },
    {
      "cell_type": "markdown",
      "source": [
        "#Stemming\n",
        "It is the process of eliminating the words derived from the same word in the text separately and reducing them to a single word. Of course, this process creates many differences from language to language. The morphology of the language changes the methods used in the algorithms to be developed. Morphologic analysis and generation, NGram methods are used in the infrastructure. In the code below, a function called \"stemSentence\" is created using the \"nltk\" library. This function aims to take the roots of each sentence by separating it into words and turn it into a sentence again. Although it does not give as healthy results as the \"Lemmatization\" algorithm mentioned below, the algorithm's short working time is attractive."
      ],
      "metadata": {
        "id": "J_kxhYwGHjsH"
      }
    },
    {
      "cell_type": "code",
      "metadata": {
        "colab": {
          "base_uri": "https://localhost:8080/",
          "height": 669
        },
        "id": "S7_2x3v1Lho6",
        "outputId": "2d9a6620-d299-48a1-e58b-caf5eda77d79"
      },
      "source": [
        "#Stemming\n",
        "from nltk.tokenize import sent_tokenize, word_tokenize\n",
        "from nltk.stem import PorterStemmer\n",
        "porter = PorterStemmer()\n",
        "def stemSentence(sentence):\n",
        "    token_words=word_tokenize(sentence)\n",
        "    token_words\n",
        "    stem_sentence=[]\n",
        "    for word in token_words:\n",
        "        stem_sentence.append(porter.stem(word))\n",
        "        stem_sentence.append(\" \")\n",
        "    return \"\".join(stem_sentence)\n",
        "df['Comment']=df['Comment'].apply(stemSentence)\n",
        "df.head(20)"
      ],
      "execution_count": null,
      "outputs": [
        {
          "output_type": "execute_result",
          "data": {
            "text/html": [
              "<div>\n",
              "<style scoped>\n",
              "    .dataframe tbody tr th:only-of-type {\n",
              "        vertical-align: middle;\n",
              "    }\n",
              "\n",
              "    .dataframe tbody tr th {\n",
              "        vertical-align: top;\n",
              "    }\n",
              "\n",
              "    .dataframe thead th {\n",
              "        text-align: right;\n",
              "    }\n",
              "</style>\n",
              "<table border=\"1\" class=\"dataframe\">\n",
              "  <thead>\n",
              "    <tr style=\"text-align: right;\">\n",
              "      <th></th>\n",
              "      <th>Comment</th>\n",
              "      <th>Sentiment</th>\n",
              "    </tr>\n",
              "  </thead>\n",
              "  <tbody>\n",
              "    <tr>\n",
              "      <th>0</th>\n",
              "      <td>idea name peopl good murder doesnt want daught...</td>\n",
              "      <td>0</td>\n",
              "    </tr>\n",
              "    <tr>\n",
              "      <th>1</th>\n",
              "      <td>alway wrote seri complet stinkfest jim belushi...</td>\n",
              "      <td>0</td>\n",
              "    </tr>\n",
              "    <tr>\n",
              "      <th>2</th>\n",
              "      <td>spoiler warn minor spoiler review dont read be...</td>\n",
              "      <td>0</td>\n",
              "    </tr>\n",
              "    <tr>\n",
              "      <th>3</th>\n",
              "      <td>film joke comedi sure isnt seriou thriller sug...</td>\n",
              "      <td>0</td>\n",
              "    </tr>\n",
              "    <tr>\n",
              "      <th>4</th>\n",
              "      <td>kind film everyon involv embarrass poor direct...</td>\n",
              "      <td>0</td>\n",
              "    </tr>\n",
              "    <tr>\n",
              "      <th>5</th>\n",
              "      <td>disappoint movi thought scari movi although gr...</td>\n",
              "      <td>0</td>\n",
              "    </tr>\n",
              "    <tr>\n",
              "      <th>6</th>\n",
              "      <td>ill keep short know dont need say muchbr br al...</td>\n",
              "      <td>0</td>\n",
              "    </tr>\n",
              "    <tr>\n",
              "      <th>7</th>\n",
              "      <td>startoh yea messag bad guy first find person t...</td>\n",
              "      <td>0</td>\n",
              "    </tr>\n",
              "    <tr>\n",
              "      <th>8</th>\n",
              "      <td>comment show movi might scare your littl child...</td>\n",
              "      <td>0</td>\n",
              "    </tr>\n",
              "    <tr>\n",
              "      <th>9</th>\n",
              "      <td>sinc caligula consid turn movi halfway through...</td>\n",
              "      <td>0</td>\n",
              "    </tr>\n",
              "    <tr>\n",
              "      <th>10</th>\n",
              "      <td>film made even keep mind gener tax concess aus...</td>\n",
              "      <td>0</td>\n",
              "    </tr>\n",
              "    <tr>\n",
              "      <th>11</th>\n",
              "      <td>carlo mencia continu violent hate scream bch w...</td>\n",
              "      <td>0</td>\n",
              "    </tr>\n",
              "    <tr>\n",
              "      <th>12</th>\n",
              "      <td>ok mayb 13 year old like littl old movi pamper...</td>\n",
              "      <td>0</td>\n",
              "    </tr>\n",
              "    <tr>\n",
              "      <th>13</th>\n",
              "      <td>review mostli spoiler plan enjoy film dont rea...</td>\n",
              "      <td>0</td>\n",
              "    </tr>\n",
              "    <tr>\n",
              "      <th>14</th>\n",
              "      <td>colleg high school fratern soror popular stalk...</td>\n",
              "      <td>0</td>\n",
              "    </tr>\n",
              "    <tr>\n",
              "      <th>15</th>\n",
              "      <td>month ago involv debat anoth imdb poster hey k...</td>\n",
              "      <td>0</td>\n",
              "    </tr>\n",
              "    <tr>\n",
              "      <th>16</th>\n",
              "      <td>immor tale left bad tast mouth seem borowczyk ...</td>\n",
              "      <td>0</td>\n",
              "    </tr>\n",
              "    <tr>\n",
              "      <th>17</th>\n",
              "      <td>mean ultra light film featur four giant star t...</td>\n",
              "      <td>0</td>\n",
              "    </tr>\n",
              "    <tr>\n",
              "      <th>18</th>\n",
              "      <td>mani secondari plot line without primari one m...</td>\n",
              "      <td>0</td>\n",
              "    </tr>\n",
              "    <tr>\n",
              "      <th>19</th>\n",
              "      <td>back 1985 caught thing cant even call movi cab...</td>\n",
              "      <td>0</td>\n",
              "    </tr>\n",
              "  </tbody>\n",
              "</table>\n",
              "</div>"
            ],
            "text/plain": [
              "                                              Comment  Sentiment\n",
              "0   idea name peopl good murder doesnt want daught...          0\n",
              "1   alway wrote seri complet stinkfest jim belushi...          0\n",
              "2   spoiler warn minor spoiler review dont read be...          0\n",
              "3   film joke comedi sure isnt seriou thriller sug...          0\n",
              "4   kind film everyon involv embarrass poor direct...          0\n",
              "5   disappoint movi thought scari movi although gr...          0\n",
              "6   ill keep short know dont need say muchbr br al...          0\n",
              "7   startoh yea messag bad guy first find person t...          0\n",
              "8   comment show movi might scare your littl child...          0\n",
              "9   sinc caligula consid turn movi halfway through...          0\n",
              "10  film made even keep mind gener tax concess aus...          0\n",
              "11  carlo mencia continu violent hate scream bch w...          0\n",
              "12  ok mayb 13 year old like littl old movi pamper...          0\n",
              "13  review mostli spoiler plan enjoy film dont rea...          0\n",
              "14  colleg high school fratern soror popular stalk...          0\n",
              "15  month ago involv debat anoth imdb poster hey k...          0\n",
              "16  immor tale left bad tast mouth seem borowczyk ...          0\n",
              "17  mean ultra light film featur four giant star t...          0\n",
              "18  mani secondari plot line without primari one m...          0\n",
              "19  back 1985 caught thing cant even call movi cab...          0"
            ]
          },
          "metadata": {
            "tags": []
          },
          "execution_count": 13
        }
      ]
    },
    {
      "cell_type": "code",
      "metadata": {
        "id": "3rtJmg8aViXK"
      },
      "source": [
        "#Lemmatization\n",
        "nlp = spacy.load('en', disable=['parser', 'ner'])\n",
        "def space(comment):\n",
        "    doc = nlp(comment)\n",
        "    return \" \".join([token.lemma_ for token in doc])\n",
        "df['Comment']= df['Comment'].apply(space)"
      ],
      "execution_count": null,
      "outputs": []
    },
    {
      "cell_type": "code",
      "metadata": {
        "id": "_j_8nYaXLgth"
      },
      "source": [
        ""
      ],
      "execution_count": null,
      "outputs": []
    },
    {
      "cell_type": "code",
      "metadata": {
        "colab": {
          "base_uri": "https://localhost:8080/",
          "height": 669
        },
        "id": "BVxxq46D2FjS",
        "outputId": "4dbda4cd-8cbc-44e1-a543-da38e951726a"
      },
      "source": [
        "df.head(20)"
      ],
      "execution_count": null,
      "outputs": [
        {
          "output_type": "execute_result",
          "data": {
            "text/html": [
              "<div>\n",
              "<style scoped>\n",
              "    .dataframe tbody tr th:only-of-type {\n",
              "        vertical-align: middle;\n",
              "    }\n",
              "\n",
              "    .dataframe tbody tr th {\n",
              "        vertical-align: top;\n",
              "    }\n",
              "\n",
              "    .dataframe thead th {\n",
              "        text-align: right;\n",
              "    }\n",
              "</style>\n",
              "<table border=\"1\" class=\"dataframe\">\n",
              "  <thead>\n",
              "    <tr style=\"text-align: right;\">\n",
              "      <th></th>\n",
              "      <th>Comment</th>\n",
              "      <th>Sentiment</th>\n",
              "    </tr>\n",
              "  </thead>\n",
              "  <tbody>\n",
              "    <tr>\n",
              "      <th>0</th>\n",
              "      <td>idea name peopl good murder do not want daught...</td>\n",
              "      <td>0</td>\n",
              "    </tr>\n",
              "    <tr>\n",
              "      <th>1</th>\n",
              "      <td>alway write seri complet stinkfest jim belushi...</td>\n",
              "      <td>0</td>\n",
              "    </tr>\n",
              "    <tr>\n",
              "      <th>2</th>\n",
              "      <td>spoiler warn minor spoiler review do not read ...</td>\n",
              "      <td>0</td>\n",
              "    </tr>\n",
              "    <tr>\n",
              "      <th>3</th>\n",
              "      <td>film joke comedi sure be not seriou thriller s...</td>\n",
              "      <td>0</td>\n",
              "    </tr>\n",
              "    <tr>\n",
              "      <th>4</th>\n",
              "      <td>kind film everyon involv embarrass poor direct...</td>\n",
              "      <td>0</td>\n",
              "    </tr>\n",
              "    <tr>\n",
              "      <th>5</th>\n",
              "      <td>disappoint movi think scari movi although grea...</td>\n",
              "      <td>0</td>\n",
              "    </tr>\n",
              "    <tr>\n",
              "      <th>6</th>\n",
              "      <td>ill keep short know do not need say muchbr br ...</td>\n",
              "      <td>0</td>\n",
              "    </tr>\n",
              "    <tr>\n",
              "      <th>7</th>\n",
              "      <td>startoh yea messag bad guy first find person t...</td>\n",
              "      <td>0</td>\n",
              "    </tr>\n",
              "    <tr>\n",
              "      <th>8</th>\n",
              "      <td>comment show movi may scare -PRON- littl child...</td>\n",
              "      <td>0</td>\n",
              "    </tr>\n",
              "    <tr>\n",
              "      <th>9</th>\n",
              "      <td>sinc caligula consid turn movi halfway through...</td>\n",
              "      <td>0</td>\n",
              "    </tr>\n",
              "    <tr>\n",
              "      <th>10</th>\n",
              "      <td>film make even keep mind gener tax concess aus...</td>\n",
              "      <td>0</td>\n",
              "    </tr>\n",
              "    <tr>\n",
              "      <th>11</th>\n",
              "      <td>carlo mencia continu violent hate scream bch w...</td>\n",
              "      <td>0</td>\n",
              "    </tr>\n",
              "    <tr>\n",
              "      <th>12</th>\n",
              "      <td>ok mayb 13 year old like littl old movi pamper...</td>\n",
              "      <td>0</td>\n",
              "    </tr>\n",
              "    <tr>\n",
              "      <th>13</th>\n",
              "      <td>review mostli spoiler plan enjoy film do not r...</td>\n",
              "      <td>0</td>\n",
              "    </tr>\n",
              "    <tr>\n",
              "      <th>14</th>\n",
              "      <td>colleg high school fratern soror popular stalk...</td>\n",
              "      <td>0</td>\n",
              "    </tr>\n",
              "    <tr>\n",
              "      <th>15</th>\n",
              "      <td>month ago involv debat anoth imdb poster hey k...</td>\n",
              "      <td>0</td>\n",
              "    </tr>\n",
              "    <tr>\n",
              "      <th>16</th>\n",
              "      <td>immor tale leave bad tast mouth seem borowczyk...</td>\n",
              "      <td>0</td>\n",
              "    </tr>\n",
              "    <tr>\n",
              "      <th>17</th>\n",
              "      <td>mean ultra light film featur four giant star t...</td>\n",
              "      <td>0</td>\n",
              "    </tr>\n",
              "    <tr>\n",
              "      <th>18</th>\n",
              "      <td>mani secondari plot line without primari one m...</td>\n",
              "      <td>0</td>\n",
              "    </tr>\n",
              "    <tr>\n",
              "      <th>19</th>\n",
              "      <td>back 1985 catch thing can not even call movi c...</td>\n",
              "      <td>0</td>\n",
              "    </tr>\n",
              "  </tbody>\n",
              "</table>\n",
              "</div>"
            ],
            "text/plain": [
              "                                              Comment  Sentiment\n",
              "0   idea name peopl good murder do not want daught...          0\n",
              "1   alway write seri complet stinkfest jim belushi...          0\n",
              "2   spoiler warn minor spoiler review do not read ...          0\n",
              "3   film joke comedi sure be not seriou thriller s...          0\n",
              "4   kind film everyon involv embarrass poor direct...          0\n",
              "5   disappoint movi think scari movi although grea...          0\n",
              "6   ill keep short know do not need say muchbr br ...          0\n",
              "7   startoh yea messag bad guy first find person t...          0\n",
              "8   comment show movi may scare -PRON- littl child...          0\n",
              "9   sinc caligula consid turn movi halfway through...          0\n",
              "10  film make even keep mind gener tax concess aus...          0\n",
              "11  carlo mencia continu violent hate scream bch w...          0\n",
              "12  ok mayb 13 year old like littl old movi pamper...          0\n",
              "13  review mostli spoiler plan enjoy film do not r...          0\n",
              "14  colleg high school fratern soror popular stalk...          0\n",
              "15  month ago involv debat anoth imdb poster hey k...          0\n",
              "16  immor tale leave bad tast mouth seem borowczyk...          0\n",
              "17  mean ultra light film featur four giant star t...          0\n",
              "18  mani secondari plot line without primari one m...          0\n",
              "19  back 1985 catch thing can not even call movi c...          0"
            ]
          },
          "metadata": {
            "tags": []
          },
          "execution_count": 15
        }
      ]
    },
    {
      "cell_type": "code",
      "metadata": {
        "colab": {
          "base_uri": "https://localhost:8080/",
          "height": 336
        },
        "id": "2KFBnkXdfISq",
        "outputId": "1d05bbc1-fe72-4d84-98e3-11b852ba613e"
      },
      "source": [
        "#Check distribution of positives and negatives\n",
        "import seaborn as sns \n",
        "import matplotlib.pyplot as plt \n",
        "fig = plt.figure(figsize = (10,5))\n",
        "ax = fig.gca()\n",
        "df.hist(ax=ax)\n",
        "plt.show()"
      ],
      "execution_count": null,
      "outputs": [
        {
          "output_type": "display_data",
          "data": {
            "image/png": "[encoded data removed]",
            "text/plain": [
              "<Figure size 720x360 with 1 Axes>"
            ]
          },
          "metadata": {
            "tags": [],
            "needs_background": "light"
          }
        }
      ]
    },
    {
      "cell_type": "code",
      "metadata": {
        "id": "jBJrBiFOV1N-"
      },
      "source": [
        "#Vectorizing dataset\n",
        "from sklearn.feature_extraction.text import CountVectorizer\n",
        "cv = CountVectorizer(max_features=1000)\n",
        "X = cv.fit_transform(df['Comment']).toarray()"
      ],
      "execution_count": null,
      "outputs": []
    },
    {
      "cell_type": "code",
      "metadata": {
        "colab": {
          "base_uri": "https://localhost:8080/"
        },
        "id": "lMWPtAyHXFK9",
        "outputId": "ae45b91f-9ab3-4b12-c2b4-5288902ce16b"
      },
      "source": [
        "X.shape\n"
      ],
      "execution_count": null,
      "outputs": [
        {
          "output_type": "execute_result",
          "data": {
            "text/plain": [
              "(50000, 1000)"
            ]
          },
          "metadata": {
            "tags": []
          },
          "execution_count": 18
        }
      ]
    },
    {
      "cell_type": "code",
      "metadata": {
        "colab": {
          "base_uri": "https://localhost:8080/"
        },
        "id": "eOZ-DKwqYSpY",
        "outputId": "6f79a2df-1026-463e-f20b-52d15fef59c9"
      },
      "source": [
        "X[0].mean()\n",
        "y = df.iloc[:,-1].values\n",
        "y.shape"
      ],
      "execution_count": null,
      "outputs": [
        {
          "output_type": "execute_result",
          "data": {
            "text/plain": [
              "(50000,)"
            ]
          },
          "metadata": {
            "tags": []
          },
          "execution_count": 19
        }
      ]
    },
    {
      "cell_type": "code",
      "metadata": {
        "colab": {
          "base_uri": "https://localhost:8080/"
        },
        "id": "Yjlaf0DbYca9",
        "outputId": "46500848-6a71-4360-d079-9c9a20742bb1"
      },
      "source": [
        "#Train, test split 80% Train 20%Test\n",
        "from sklearn.model_selection import train_test_split\n",
        "X_train, X_test, y_train, y_test = train_test_split(X,y, test_size=.2)\n",
        "X_train.shape, X_test.shape, y_train.shape, y_test.shape"
      ],
      "execution_count": null,
      "outputs": [
        {
          "output_type": "execute_result",
          "data": {
            "text/plain": [
              "((40000, 1000), (10000, 1000), (40000,), (10000,))"
            ]
          },
          "metadata": {
            "tags": []
          },
          "execution_count": 20
        }
      ]
    },
    {
      "cell_type": "markdown",
      "source": [
        "#Gaussian Naive Bayes Classifier\n",
        "If the features are continuous values, it is assumed that these values ​​are sampled from a gaussian distribution, or in other words, from a normal distribution.\n",
        "The code of the Gaussian Naive Bayes algorithm used in the project is given below and the measurement was made with a sensitivity of 79.33%. A total of 10000 predictions were made, of which 4148 are true negative and 3785 true positive values.\n",
        "#Multinominal Naive Bayes Classifier\n",
        "It is mostly used to classify e-commerce multi-class categories—sports, cosmetics, apparel, petshop. The code of the Multinominal Naive Bayes algorithm used in the project is given below and the measurement was made with a precision of 82.31%. A total of 10000 predictions were made, of which 4102 are true negative and 4129 are true positive values.\n",
        "#Bernoulli Naive Bayes Classifier\n",
        "It makes classification similar to Multinominal Naive Bayes. However, the predictions are only in boolean (binary) form. Ideal for Yes/No, Spam/Not Spam, 1/0, Yes/No etc predictions. The code of the Bernoulli Naive Bayes algorithm used in the project is given below and the measurement was made with a precision of 82.29%. A total of 10000 predictions were made, of which 3982 were true negative and 4247 were true positive values."
      ],
      "metadata": {
        "id": "nVGcEH_cGKl9"
      }
    },
    {
      "cell_type": "code",
      "metadata": {
        "colab": {
          "base_uri": "https://localhost:8080/"
        },
        "id": "ot3WjFIHY1AV",
        "outputId": "eab19028-d538-4a4d-dbe6-6d0acce8dd16"
      },
      "source": [
        "from sklearn.naive_bayes import GaussianNB, MultinomialNB, BernoulliNB\n",
        "# Craeting object\n",
        "clf1 = GaussianNB()\n",
        "clf2 = MultinomialNB()\n",
        "clf3 = BernoulliNB()\n",
        "clf1.fit(X_train, y_train)\n",
        "clf2.fit(X_train, y_train)\n",
        "clf3.fit(X_train, y_train)"
      ],
      "execution_count": null,
      "outputs": [
        {
          "output_type": "execute_result",
          "data": {
            "text/plain": [
              "BernoulliNB(alpha=1.0, binarize=0.0, class_prior=None, fit_prior=True)"
            ]
          },
          "metadata": {
            "tags": []
          },
          "execution_count": 21
        }
      ]
    },
    {
      "cell_type": "code",
      "metadata": {
        "id": "FVTuGq2_Y6nf",
        "colab": {
          "base_uri": "https://localhost:8080/"
        },
        "outputId": "e2521ac7-5f18-4505-f2f8-34ce33748119"
      },
      "source": [
        "y_pred1 =clf1.predict(X_test)\n",
        "y_pred2 = clf2.predict(X_test)\n",
        "y_pred3 = clf3.predict(X_test)\n",
        "y_test.shape, y_pred1.shape"
      ],
      "execution_count": null,
      "outputs": [
        {
          "output_type": "execute_result",
          "data": {
            "text/plain": [
              "((10000,), (10000,))"
            ]
          },
          "metadata": {
            "tags": []
          },
          "execution_count": 22
        }
      ]
    },
    {
      "cell_type": "code",
      "metadata": {
        "id": "iuYujHS5Y-eS",
        "colab": {
          "base_uri": "https://localhost:8080/",
          "height": 296
        },
        "outputId": "6ac4a5cb-5b49-4639-be0f-25388b656407"
      },
      "source": [
        "#Confusion Matrix\n",
        "from sklearn.metrics import accuracy_score\n",
        "from sklearn.metrics import confusion_matrix, ConfusionMatrixDisplay\n",
        "\n",
        "print('Gaussian: ', accuracy_score(y_test, y_pred1))\n",
        "cm=confusion_matrix(y_test, y_pred1)\n",
        "disp = ConfusionMatrixDisplay(confusion_matrix=cm, display_labels=clf1.classes_)\n",
        "disp.plot(values_format='d');"
      ],
      "execution_count": null,
      "outputs": [
        {
          "output_type": "stream",
          "text": [
            "Gaussian:  0.7933\n"
          ],
          "name": "stdout"
        },
        {
          "output_type": "display_data",
          "data": {
            "image/png": "[encoded data removed]",
            "text/plain": [
              "<Figure size 432x288 with 2 Axes>"
            ]
          },
          "metadata": {
            "tags": [],
            "needs_background": "light"
          }
        }
      ]
    },
    {
      "cell_type": "code",
      "metadata": {
        "colab": {
          "base_uri": "https://localhost:8080/",
          "height": 296
        },
        "id": "KdY1VTC7OFc8",
        "outputId": "611eb61c-c581-418f-8774-c83ceeeebbf7"
      },
      "source": [
        "#Confusion Matrix\n",
        "print('Multinomial: ', accuracy_score(y_test, y_pred2))\n",
        "cm=confusion_matrix(y_test, y_pred2)\n",
        "disp = ConfusionMatrixDisplay(confusion_matrix=cm, display_labels=clf2.classes_)\n",
        "disp.plot(values_format='d');\n"
      ],
      "execution_count": null,
      "outputs": [
        {
          "output_type": "stream",
          "text": [
            "Multinomial:  0.8231\n"
          ],
          "name": "stdout"
        },
        {
          "output_type": "display_data",
          "data": {
            "image/png": "[encoded data removed]",
            "text/plain": [
              "<Figure size 432x288 with 2 Axes>"
            ]
          },
          "metadata": {
            "tags": [],
            "needs_background": "light"
          }
        }
      ]
    },
    {
      "cell_type": "code",
      "metadata": {
        "colab": {
          "base_uri": "https://localhost:8080/",
          "height": 296
        },
        "id": "wKMRi2PLOLdL",
        "outputId": "e2799265-11f7-475a-9def-d60fad700951"
      },
      "source": [
        "#Confusion Matrix\n",
        "print('Bernoulli: ', accuracy_score(y_test, y_pred3))\n",
        "cm=confusion_matrix(y_test, y_pred3)\n",
        "disp = ConfusionMatrixDisplay(confusion_matrix=cm, display_labels=clf3.classes_)\n",
        "disp.plot(values_format='d');"
      ],
      "execution_count": null,
      "outputs": [
        {
          "output_type": "stream",
          "text": [
            "Bernoulli:  0.8229\n"
          ],
          "name": "stdout"
        },
        {
          "output_type": "display_data",
          "data": {
            "image/png": "[encoded data removed]",
            "text/plain": [
              "<Figure size 432x288 with 2 Axes>"
            ]
          },
          "metadata": {
            "tags": [],
            "needs_background": "light"
          }
        }
      ]
    },
    {
      "cell_type": "markdown",
      "source": [
        "#Results\n",
        "Within the scope of this project, it is aimed to conduct a Sentiment Analysis study. Studies have been carried out on the \"Large Movie Review Dataset\" prepared by Stanford University. The data set is made ready to be subjected to machine learning algorithms by performing operations such as downloading and reading the data set, checking the accuracy of the data, creating a dataframe with the obtained data, cleaning the data and necessary pre-processes, and dividing the data set. Naive Bayes Algorithms, one of the most frequently used algorithms, were preferred as machine learning algorithms. As a result of these algorithms, estimation processes were made and the following sensitivity results were obtained: </br></br>\n",
        "• Gaussian Naive Bayes Algorithm: 79.33% </br>\n",
        "• Multinominal Naive Bayes Algorithm: 82.31% </br>\n",
        "• Bernoulli Naive Bayes Algorithm: 82.29% </br></br>\n",
        "Considering these results, the most sensitive and accurate algorithm was the \"Multinominal Naive Bayes Algorithm\". However, the \"Bernoulli Naive Bayes Algorithm\" can be preferred in order to make these estimations, both with its ability to only perform boolean classification and the 4247 True Positive results it obtained. In order to make this choice even clearer, it may be preferable to use a data set with more data. If it is desired to obtain more precise results, the codes of the \"Lemmatization\" and \"Stemming\" algorithms can be developed and libraries with better results can be written."
      ],
      "metadata": {
        "id": "eBNwwFcIIpGH"
      }
    }
  ]
}